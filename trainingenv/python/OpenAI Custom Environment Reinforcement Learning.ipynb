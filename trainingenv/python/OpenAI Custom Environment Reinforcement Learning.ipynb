{
 "cells": [
  {
   "cell_type": "markdown",
   "metadata": {},
   "source": [
    "# 0. Install Dependencies"
   ]
  },
  {
   "cell_type": "code",
   "execution_count": 1,
   "metadata": {},
   "outputs": [
    {
     "name": "stdout",
     "output_type": "stream",
     "text": [
      "Requirement already satisfied: tensorflow==2.3.0 in /Users/chesterbr/.pyenv/versions/3.7.17/lib/python3.7/site-packages (2.3.0)\n",
      "Requirement already satisfied: absl-py>=0.7.0 in /Users/chesterbr/.pyenv/versions/3.7.17/lib/python3.7/site-packages (from tensorflow==2.3.0) (1.4.0)\n",
      "Requirement already satisfied: astunparse==1.6.3 in /Users/chesterbr/.pyenv/versions/3.7.17/lib/python3.7/site-packages (from tensorflow==2.3.0) (1.6.3)\n",
      "Requirement already satisfied: gast==0.3.3 in /Users/chesterbr/.pyenv/versions/3.7.17/lib/python3.7/site-packages (from tensorflow==2.3.0) (0.3.3)\n",
      "Requirement already satisfied: google-pasta>=0.1.8 in /Users/chesterbr/.pyenv/versions/3.7.17/lib/python3.7/site-packages (from tensorflow==2.3.0) (0.2.0)\n",
      "Requirement already satisfied: h5py<2.11.0,>=2.10.0 in /Users/chesterbr/.pyenv/versions/3.7.17/lib/python3.7/site-packages (from tensorflow==2.3.0) (2.10.0)\n",
      "Requirement already satisfied: keras-preprocessing<1.2,>=1.1.1 in /Users/chesterbr/.pyenv/versions/3.7.17/lib/python3.7/site-packages (from tensorflow==2.3.0) (1.1.2)\n",
      "Requirement already satisfied: numpy<1.19.0,>=1.16.0 in /Users/chesterbr/.pyenv/versions/3.7.17/lib/python3.7/site-packages (from tensorflow==2.3.0) (1.18.5)\n",
      "Requirement already satisfied: opt-einsum>=2.3.2 in /Users/chesterbr/.pyenv/versions/3.7.17/lib/python3.7/site-packages (from tensorflow==2.3.0) (3.3.0)\n",
      "Requirement already satisfied: protobuf>=3.9.2 in /Users/chesterbr/.pyenv/versions/3.7.17/lib/python3.7/site-packages (from tensorflow==2.3.0) (3.20.3)\n",
      "Requirement already satisfied: tensorboard<3,>=2.3.0 in /Users/chesterbr/.pyenv/versions/3.7.17/lib/python3.7/site-packages (from tensorflow==2.3.0) (2.11.2)\n",
      "Requirement already satisfied: tensorflow-estimator<2.4.0,>=2.3.0 in /Users/chesterbr/.pyenv/versions/3.7.17/lib/python3.7/site-packages (from tensorflow==2.3.0) (2.3.0)\n",
      "Requirement already satisfied: termcolor>=1.1.0 in /Users/chesterbr/.pyenv/versions/3.7.17/lib/python3.7/site-packages (from tensorflow==2.3.0) (2.3.0)\n",
      "Requirement already satisfied: wrapt>=1.11.1 in /Users/chesterbr/.pyenv/versions/3.7.17/lib/python3.7/site-packages (from tensorflow==2.3.0) (1.15.0)\n",
      "Requirement already satisfied: wheel>=0.26 in /Users/chesterbr/.pyenv/versions/3.7.17/lib/python3.7/site-packages (from tensorflow==2.3.0) (0.41.2)\n",
      "Requirement already satisfied: six>=1.12.0 in /Users/chesterbr/.pyenv/versions/3.7.17/lib/python3.7/site-packages (from tensorflow==2.3.0) (1.16.0)\n",
      "Requirement already satisfied: scipy==1.4.1 in /Users/chesterbr/.pyenv/versions/3.7.17/lib/python3.7/site-packages (from tensorflow==2.3.0) (1.4.1)\n",
      "Requirement already satisfied: grpcio>=1.8.6 in /Users/chesterbr/.pyenv/versions/3.7.17/lib/python3.7/site-packages (from tensorflow==2.3.0) (1.59.0)\n",
      "Requirement already satisfied: google-auth<3,>=1.6.3 in /Users/chesterbr/.pyenv/versions/3.7.17/lib/python3.7/site-packages (from tensorboard<3,>=2.3.0->tensorflow==2.3.0) (2.23.3)\n",
      "Requirement already satisfied: google-auth-oauthlib<0.5,>=0.4.1 in /Users/chesterbr/.pyenv/versions/3.7.17/lib/python3.7/site-packages (from tensorboard<3,>=2.3.0->tensorflow==2.3.0) (0.4.6)\n",
      "Requirement already satisfied: markdown>=2.6.8 in /Users/chesterbr/.pyenv/versions/3.7.17/lib/python3.7/site-packages (from tensorboard<3,>=2.3.0->tensorflow==2.3.0) (3.4.4)\n",
      "Requirement already satisfied: requests<3,>=2.21.0 in /Users/chesterbr/.pyenv/versions/3.7.17/lib/python3.7/site-packages (from tensorboard<3,>=2.3.0->tensorflow==2.3.0) (2.31.0)\n",
      "Requirement already satisfied: setuptools>=41.0.0 in /Users/chesterbr/.pyenv/versions/3.7.17/lib/python3.7/site-packages (from tensorboard<3,>=2.3.0->tensorflow==2.3.0) (47.1.0)\n",
      "Requirement already satisfied: tensorboard-data-server<0.7.0,>=0.6.0 in /Users/chesterbr/.pyenv/versions/3.7.17/lib/python3.7/site-packages (from tensorboard<3,>=2.3.0->tensorflow==2.3.0) (0.6.1)\n",
      "Requirement already satisfied: tensorboard-plugin-wit>=1.6.0 in /Users/chesterbr/.pyenv/versions/3.7.17/lib/python3.7/site-packages (from tensorboard<3,>=2.3.0->tensorflow==2.3.0) (1.8.1)\n",
      "Requirement already satisfied: werkzeug>=1.0.1 in /Users/chesterbr/.pyenv/versions/3.7.17/lib/python3.7/site-packages (from tensorboard<3,>=2.3.0->tensorflow==2.3.0) (2.2.3)\n",
      "Requirement already satisfied: cachetools<6.0,>=2.0.0 in /Users/chesterbr/.pyenv/versions/3.7.17/lib/python3.7/site-packages (from google-auth<3,>=1.6.3->tensorboard<3,>=2.3.0->tensorflow==2.3.0) (5.3.1)\n",
      "Requirement already satisfied: pyasn1-modules>=0.2.1 in /Users/chesterbr/.pyenv/versions/3.7.17/lib/python3.7/site-packages (from google-auth<3,>=1.6.3->tensorboard<3,>=2.3.0->tensorflow==2.3.0) (0.3.0)\n",
      "Requirement already satisfied: rsa<5,>=3.1.4 in /Users/chesterbr/.pyenv/versions/3.7.17/lib/python3.7/site-packages (from google-auth<3,>=1.6.3->tensorboard<3,>=2.3.0->tensorflow==2.3.0) (4.9)\n",
      "Requirement already satisfied: requests-oauthlib>=0.7.0 in /Users/chesterbr/.pyenv/versions/3.7.17/lib/python3.7/site-packages (from google-auth-oauthlib<0.5,>=0.4.1->tensorboard<3,>=2.3.0->tensorflow==2.3.0) (1.3.1)\n",
      "Requirement already satisfied: importlib-metadata>=4.4 in /Users/chesterbr/.pyenv/versions/3.7.17/lib/python3.7/site-packages (from markdown>=2.6.8->tensorboard<3,>=2.3.0->tensorflow==2.3.0) (6.7.0)\n",
      "Requirement already satisfied: charset-normalizer<4,>=2 in /Users/chesterbr/.pyenv/versions/3.7.17/lib/python3.7/site-packages (from requests<3,>=2.21.0->tensorboard<3,>=2.3.0->tensorflow==2.3.0) (3.3.0)\n",
      "Requirement already satisfied: idna<4,>=2.5 in /Users/chesterbr/.pyenv/versions/3.7.17/lib/python3.7/site-packages (from requests<3,>=2.21.0->tensorboard<3,>=2.3.0->tensorflow==2.3.0) (3.4)\n",
      "Requirement already satisfied: urllib3<3,>=1.21.1 in /Users/chesterbr/.pyenv/versions/3.7.17/lib/python3.7/site-packages (from requests<3,>=2.21.0->tensorboard<3,>=2.3.0->tensorflow==2.3.0) (2.0.6)\n",
      "Requirement already satisfied: certifi>=2017.4.17 in /Users/chesterbr/.pyenv/versions/3.7.17/lib/python3.7/site-packages (from requests<3,>=2.21.0->tensorboard<3,>=2.3.0->tensorflow==2.3.0) (2023.7.22)\n",
      "Requirement already satisfied: MarkupSafe>=2.1.1 in /Users/chesterbr/.pyenv/versions/3.7.17/lib/python3.7/site-packages (from werkzeug>=1.0.1->tensorboard<3,>=2.3.0->tensorflow==2.3.0) (2.1.3)\n",
      "Requirement already satisfied: zipp>=0.5 in /Users/chesterbr/.pyenv/versions/3.7.17/lib/python3.7/site-packages (from importlib-metadata>=4.4->markdown>=2.6.8->tensorboard<3,>=2.3.0->tensorflow==2.3.0) (3.15.0)\n",
      "Requirement already satisfied: typing-extensions>=3.6.4 in /Users/chesterbr/.pyenv/versions/3.7.17/lib/python3.7/site-packages (from importlib-metadata>=4.4->markdown>=2.6.8->tensorboard<3,>=2.3.0->tensorflow==2.3.0) (4.7.1)\n",
      "Requirement already satisfied: pyasn1<0.6.0,>=0.4.6 in /Users/chesterbr/.pyenv/versions/3.7.17/lib/python3.7/site-packages (from pyasn1-modules>=0.2.1->google-auth<3,>=1.6.3->tensorboard<3,>=2.3.0->tensorflow==2.3.0) (0.5.0)\n",
      "Requirement already satisfied: oauthlib>=3.0.0 in /Users/chesterbr/.pyenv/versions/3.7.17/lib/python3.7/site-packages (from requests-oauthlib>=0.7.0->google-auth-oauthlib<0.5,>=0.4.1->tensorboard<3,>=2.3.0->tensorflow==2.3.0) (3.2.2)\n",
      "Requirement already satisfied: gym in /Users/chesterbr/.pyenv/versions/3.7.17/lib/python3.7/site-packages (0.26.2)\n",
      "Requirement already satisfied: numpy>=1.18.0 in /Users/chesterbr/.pyenv/versions/3.7.17/lib/python3.7/site-packages (from gym) (1.18.5)\n",
      "Requirement already satisfied: cloudpickle>=1.2.0 in /Users/chesterbr/.pyenv/versions/3.7.17/lib/python3.7/site-packages (from gym) (2.2.1)\n",
      "Requirement already satisfied: gym-notices>=0.0.4 in /Users/chesterbr/.pyenv/versions/3.7.17/lib/python3.7/site-packages (from gym) (0.0.8)\n",
      "Requirement already satisfied: importlib-metadata>=4.8.0 in /Users/chesterbr/.pyenv/versions/3.7.17/lib/python3.7/site-packages (from gym) (6.7.0)\n",
      "Requirement already satisfied: zipp>=0.5 in /Users/chesterbr/.pyenv/versions/3.7.17/lib/python3.7/site-packages (from importlib-metadata>=4.8.0->gym) (3.15.0)\n",
      "Requirement already satisfied: typing-extensions>=3.6.4 in /Users/chesterbr/.pyenv/versions/3.7.17/lib/python3.7/site-packages (from importlib-metadata>=4.8.0->gym) (4.7.1)\n",
      "Requirement already satisfied: keras in /Users/chesterbr/.pyenv/versions/3.7.17/lib/python3.7/site-packages (2.11.0)\n"
     ]
    },
    {
     "name": "stdout",
     "output_type": "stream",
     "text": [
      "Requirement already satisfied: keras-rl2 in /Users/chesterbr/.pyenv/versions/3.7.17/lib/python3.7/site-packages (1.0.5)\n",
      "Requirement already satisfied: tensorflow in /Users/chesterbr/.pyenv/versions/3.7.17/lib/python3.7/site-packages (from keras-rl2) (2.3.0)\n",
      "Requirement already satisfied: absl-py>=0.7.0 in /Users/chesterbr/.pyenv/versions/3.7.17/lib/python3.7/site-packages (from tensorflow->keras-rl2) (1.4.0)\n",
      "Requirement already satisfied: astunparse==1.6.3 in /Users/chesterbr/.pyenv/versions/3.7.17/lib/python3.7/site-packages (from tensorflow->keras-rl2) (1.6.3)\n",
      "Requirement already satisfied: gast==0.3.3 in /Users/chesterbr/.pyenv/versions/3.7.17/lib/python3.7/site-packages (from tensorflow->keras-rl2) (0.3.3)\n",
      "Requirement already satisfied: google-pasta>=0.1.8 in /Users/chesterbr/.pyenv/versions/3.7.17/lib/python3.7/site-packages (from tensorflow->keras-rl2) (0.2.0)\n",
      "Requirement already satisfied: h5py<2.11.0,>=2.10.0 in /Users/chesterbr/.pyenv/versions/3.7.17/lib/python3.7/site-packages (from tensorflow->keras-rl2) (2.10.0)\n",
      "Requirement already satisfied: keras-preprocessing<1.2,>=1.1.1 in /Users/chesterbr/.pyenv/versions/3.7.17/lib/python3.7/site-packages (from tensorflow->keras-rl2) (1.1.2)\n",
      "Requirement already satisfied: numpy<1.19.0,>=1.16.0 in /Users/chesterbr/.pyenv/versions/3.7.17/lib/python3.7/site-packages (from tensorflow->keras-rl2) (1.18.5)\n",
      "Requirement already satisfied: opt-einsum>=2.3.2 in /Users/chesterbr/.pyenv/versions/3.7.17/lib/python3.7/site-packages (from tensorflow->keras-rl2) (3.3.0)\n",
      "Requirement already satisfied: protobuf>=3.9.2 in /Users/chesterbr/.pyenv/versions/3.7.17/lib/python3.7/site-packages (from tensorflow->keras-rl2) (3.20.3)\n",
      "Requirement already satisfied: tensorboard<3,>=2.3.0 in /Users/chesterbr/.pyenv/versions/3.7.17/lib/python3.7/site-packages (from tensorflow->keras-rl2) (2.11.2)\n",
      "Requirement already satisfied: tensorflow-estimator<2.4.0,>=2.3.0 in /Users/chesterbr/.pyenv/versions/3.7.17/lib/python3.7/site-packages (from tensorflow->keras-rl2) (2.3.0)\n",
      "Requirement already satisfied: termcolor>=1.1.0 in /Users/chesterbr/.pyenv/versions/3.7.17/lib/python3.7/site-packages (from tensorflow->keras-rl2) (2.3.0)\n",
      "Requirement already satisfied: wrapt>=1.11.1 in /Users/chesterbr/.pyenv/versions/3.7.17/lib/python3.7/site-packages (from tensorflow->keras-rl2) (1.15.0)\n",
      "Requirement already satisfied: wheel>=0.26 in /Users/chesterbr/.pyenv/versions/3.7.17/lib/python3.7/site-packages (from tensorflow->keras-rl2) (0.41.2)\n",
      "Requirement already satisfied: six>=1.12.0 in /Users/chesterbr/.pyenv/versions/3.7.17/lib/python3.7/site-packages (from tensorflow->keras-rl2) (1.16.0)\n",
      "Requirement already satisfied: scipy==1.4.1 in /Users/chesterbr/.pyenv/versions/3.7.17/lib/python3.7/site-packages (from tensorflow->keras-rl2) (1.4.1)\n",
      "Requirement already satisfied: grpcio>=1.8.6 in /Users/chesterbr/.pyenv/versions/3.7.17/lib/python3.7/site-packages (from tensorflow->keras-rl2) (1.59.0)\n",
      "Requirement already satisfied: google-auth<3,>=1.6.3 in /Users/chesterbr/.pyenv/versions/3.7.17/lib/python3.7/site-packages (from tensorboard<3,>=2.3.0->tensorflow->keras-rl2) (2.23.3)\n",
      "Requirement already satisfied: google-auth-oauthlib<0.5,>=0.4.1 in /Users/chesterbr/.pyenv/versions/3.7.17/lib/python3.7/site-packages (from tensorboard<3,>=2.3.0->tensorflow->keras-rl2) (0.4.6)\n",
      "Requirement already satisfied: markdown>=2.6.8 in /Users/chesterbr/.pyenv/versions/3.7.17/lib/python3.7/site-packages (from tensorboard<3,>=2.3.0->tensorflow->keras-rl2) (3.4.4)\n",
      "Requirement already satisfied: requests<3,>=2.21.0 in /Users/chesterbr/.pyenv/versions/3.7.17/lib/python3.7/site-packages (from tensorboard<3,>=2.3.0->tensorflow->keras-rl2) (2.31.0)\n",
      "Requirement already satisfied: setuptools>=41.0.0 in /Users/chesterbr/.pyenv/versions/3.7.17/lib/python3.7/site-packages (from tensorboard<3,>=2.3.0->tensorflow->keras-rl2) (47.1.0)\n",
      "Requirement already satisfied: tensorboard-data-server<0.7.0,>=0.6.0 in /Users/chesterbr/.pyenv/versions/3.7.17/lib/python3.7/site-packages (from tensorboard<3,>=2.3.0->tensorflow->keras-rl2) (0.6.1)\n",
      "Requirement already satisfied: tensorboard-plugin-wit>=1.6.0 in /Users/chesterbr/.pyenv/versions/3.7.17/lib/python3.7/site-packages (from tensorboard<3,>=2.3.0->tensorflow->keras-rl2) (1.8.1)\n",
      "Requirement already satisfied: werkzeug>=1.0.1 in /Users/chesterbr/.pyenv/versions/3.7.17/lib/python3.7/site-packages (from tensorboard<3,>=2.3.0->tensorflow->keras-rl2) (2.2.3)\n",
      "Requirement already satisfied: cachetools<6.0,>=2.0.0 in /Users/chesterbr/.pyenv/versions/3.7.17/lib/python3.7/site-packages (from google-auth<3,>=1.6.3->tensorboard<3,>=2.3.0->tensorflow->keras-rl2) (5.3.1)\n",
      "Requirement already satisfied: pyasn1-modules>=0.2.1 in /Users/chesterbr/.pyenv/versions/3.7.17/lib/python3.7/site-packages (from google-auth<3,>=1.6.3->tensorboard<3,>=2.3.0->tensorflow->keras-rl2) (0.3.0)\n",
      "Requirement already satisfied: rsa<5,>=3.1.4 in /Users/chesterbr/.pyenv/versions/3.7.17/lib/python3.7/site-packages (from google-auth<3,>=1.6.3->tensorboard<3,>=2.3.0->tensorflow->keras-rl2) (4.9)\n",
      "Requirement already satisfied: requests-oauthlib>=0.7.0 in /Users/chesterbr/.pyenv/versions/3.7.17/lib/python3.7/site-packages (from google-auth-oauthlib<0.5,>=0.4.1->tensorboard<3,>=2.3.0->tensorflow->keras-rl2) (1.3.1)\n",
      "Requirement already satisfied: importlib-metadata>=4.4 in /Users/chesterbr/.pyenv/versions/3.7.17/lib/python3.7/site-packages (from markdown>=2.6.8->tensorboard<3,>=2.3.0->tensorflow->keras-rl2) (6.7.0)\n",
      "Requirement already satisfied: charset-normalizer<4,>=2 in /Users/chesterbr/.pyenv/versions/3.7.17/lib/python3.7/site-packages (from requests<3,>=2.21.0->tensorboard<3,>=2.3.0->tensorflow->keras-rl2) (3.3.0)\n",
      "Requirement already satisfied: idna<4,>=2.5 in /Users/chesterbr/.pyenv/versions/3.7.17/lib/python3.7/site-packages (from requests<3,>=2.21.0->tensorboard<3,>=2.3.0->tensorflow->keras-rl2) (3.4)\n",
      "Requirement already satisfied: urllib3<3,>=1.21.1 in /Users/chesterbr/.pyenv/versions/3.7.17/lib/python3.7/site-packages (from requests<3,>=2.21.0->tensorboard<3,>=2.3.0->tensorflow->keras-rl2) (2.0.6)\n",
      "Requirement already satisfied: certifi>=2017.4.17 in /Users/chesterbr/.pyenv/versions/3.7.17/lib/python3.7/site-packages (from requests<3,>=2.21.0->tensorboard<3,>=2.3.0->tensorflow->keras-rl2) (2023.7.22)\n",
      "Requirement already satisfied: MarkupSafe>=2.1.1 in /Users/chesterbr/.pyenv/versions/3.7.17/lib/python3.7/site-packages (from werkzeug>=1.0.1->tensorboard<3,>=2.3.0->tensorflow->keras-rl2) (2.1.3)\n",
      "Requirement already satisfied: zipp>=0.5 in /Users/chesterbr/.pyenv/versions/3.7.17/lib/python3.7/site-packages (from importlib-metadata>=4.4->markdown>=2.6.8->tensorboard<3,>=2.3.0->tensorflow->keras-rl2) (3.15.0)\n",
      "Requirement already satisfied: typing-extensions>=3.6.4 in /Users/chesterbr/.pyenv/versions/3.7.17/lib/python3.7/site-packages (from importlib-metadata>=4.4->markdown>=2.6.8->tensorboard<3,>=2.3.0->tensorflow->keras-rl2) (4.7.1)\n",
      "Requirement already satisfied: pyasn1<0.6.0,>=0.4.6 in /Users/chesterbr/.pyenv/versions/3.7.17/lib/python3.7/site-packages (from pyasn1-modules>=0.2.1->google-auth<3,>=1.6.3->tensorboard<3,>=2.3.0->tensorflow->keras-rl2) (0.5.0)\n",
      "Requirement already satisfied: oauthlib>=3.0.0 in /Users/chesterbr/.pyenv/versions/3.7.17/lib/python3.7/site-packages (from requests-oauthlib>=0.7.0->google-auth-oauthlib<0.5,>=0.4.1->tensorboard<3,>=2.3.0->tensorflow->keras-rl2) (3.2.2)\n"
     ]
    }
   ],
   "source": [
    "!pip install tensorflow==2.3.0\n",
    "!pip install gym\n",
    "!pip install keras\n",
    "!pip install keras-rl2"
   ]
  },
  {
   "cell_type": "markdown",
   "metadata": {},
   "source": [
    "# 1. Test Random Environment with OpenAI Gym"
   ]
  },
  {
   "cell_type": "code",
   "execution_count": 2,
   "metadata": {},
   "outputs": [],
   "source": [
    "from gym import Env\n",
    "from gym.spaces import Discrete, Box\n",
    "import numpy as np\n",
    "import random"
   ]
  },
  {
   "cell_type": "code",
   "execution_count": 3,
   "metadata": {},
   "outputs": [],
   "source": [
    "class ShowerEnv(Env):\n",
    "    def __init__(self):\n",
    "        # Actions we can take, down, stay, up\n",
    "        self.action_space = Discrete(3)\n",
    "        # Temperature array\n",
    "        self.observation_space = Box(low=np.array([0]), high=np.array([100]))\n",
    "        # Set start temp\n",
    "        self.state = 38 + random.randint(-3,3)\n",
    "        # Set shower length\n",
    "        self.shower_length = 60\n",
    "        \n",
    "    def step(self, action):\n",
    "        # Apply action\n",
    "        # 0 -1 = -1 temperature\n",
    "        # 1 -1 = 0 \n",
    "        # 2 -1 = 1 temperature \n",
    "        self.state += action -1 \n",
    "        # Reduce shower length by 1 second\n",
    "        self.shower_length -= 1 \n",
    "        \n",
    "        # Calculate reward\n",
    "        if self.state >=37 and self.state <=39: \n",
    "            reward =1 \n",
    "        else: \n",
    "            reward = -1 \n",
    "        \n",
    "        # Check if shower is done\n",
    "        if self.shower_length <= 0: \n",
    "            done = True\n",
    "        else:\n",
    "            done = False\n",
    "        \n",
    "        # Apply temperature noise\n",
    "        #self.state += random.randint(-1,1)\n",
    "        # Set placeholder for info\n",
    "        info = {}\n",
    "        \n",
    "        # Return step information\n",
    "        return self.state, reward, done, info\n",
    "\n",
    "    def render(self):\n",
    "        # Implement viz\n",
    "        pass\n",
    "    \n",
    "    def reset(self):\n",
    "        # Reset shower temperature\n",
    "        self.state = 38 + random.randint(-3,3)\n",
    "        # Reset shower time\n",
    "        self.shower_length = 60 \n",
    "        return self.state\n",
    "    "
   ]
  },
  {
   "cell_type": "code",
   "execution_count": 4,
   "metadata": {},
   "outputs": [
    {
     "name": "stderr",
     "output_type": "stream",
     "text": [
      "/Users/chesterbr/.pyenv/versions/3.7.17/lib/python3.7/site-packages/gym/spaces/box.py:127: UserWarning: \u001b[33mWARN: Box bound precision lowered by casting to float32\u001b[0m\n",
      "  logger.warn(f\"Box bound precision lowered by casting to {self.dtype}\")\n"
     ]
    }
   ],
   "source": [
    "env = ShowerEnv()"
   ]
  },
  {
   "cell_type": "code",
   "execution_count": 5,
   "metadata": {},
   "outputs": [
    {
     "data": {
      "text/plain": [
       "array([75.868416], dtype=float32)"
      ]
     },
     "execution_count": 5,
     "metadata": {},
     "output_type": "execute_result"
    }
   ],
   "source": [
    "env.observation_space.sample()"
   ]
  },
  {
   "cell_type": "code",
   "execution_count": 6,
   "metadata": {},
   "outputs": [
    {
     "name": "stdout",
     "output_type": "stream",
     "text": [
      "Episode:1 Score:-14\n",
      "Episode:2 Score:-60\n",
      "Episode:3 Score:-58\n",
      "Episode:4 Score:-40\n",
      "Episode:5 Score:-22\n",
      "Episode:6 Score:2\n",
      "Episode:7 Score:-22\n",
      "Episode:8 Score:-30\n",
      "Episode:9 Score:-30\n",
      "Episode:10 Score:-52\n"
     ]
    }
   ],
   "source": [
    "episodes = 10\n",
    "for episode in range(1, episodes+1):\n",
    "    state = env.reset()\n",
    "    done = False\n",
    "    score = 0 \n",
    "    \n",
    "    while not done:\n",
    "        #env.render()\n",
    "        action = env.action_space.sample()\n",
    "        n_state, reward, done, info = env.step(action)\n",
    "        score+=reward\n",
    "    print('Episode:{} Score:{}'.format(episode, score))"
   ]
  },
  {
   "cell_type": "markdown",
   "metadata": {},
   "source": [
    "# 2. Create a Deep Learning Model with Keras"
   ]
  },
  {
   "cell_type": "code",
   "execution_count": 7,
   "metadata": {},
   "outputs": [],
   "source": [
    "import numpy as np\n",
    "from tensorflow.keras.models import Sequential\n",
    "from tensorflow.keras.layers import Dense, Flatten\n",
    "from tensorflow.keras.optimizers import Adam\n",
    "\n",
    "from rl.agents import DQNAgent\n",
    "from rl.policy import BoltzmannQPolicy\n",
    "from rl.memory import SequentialMemory"
   ]
  },
  {
   "cell_type": "code",
   "execution_count": 8,
   "metadata": {},
   "outputs": [],
   "source": [
    "states = env.observation_space.shape\n",
    "actions = env.action_space.n"
   ]
  },
  {
   "cell_type": "code",
   "execution_count": 9,
   "metadata": {},
   "outputs": [
    {
     "data": {
      "text/plain": [
       "3"
      ]
     },
     "execution_count": 9,
     "metadata": {},
     "output_type": "execute_result"
    }
   ],
   "source": [
    "actions"
   ]
  },
  {
   "cell_type": "code",
   "execution_count": 10,
   "metadata": {},
   "outputs": [],
   "source": [
    "def build_model(states, actions):\n",
    "    model = Sequential()    \n",
    "    model.add(Dense(24, activation='relu', input_shape=states))\n",
    "    model.add(Dense(24, activation='relu'))\n",
    "    model.add(Dense(actions, activation='linear'))\n",
    "    return model"
   ]
  },
  {
   "cell_type": "code",
   "execution_count": 11,
   "metadata": {},
   "outputs": [],
   "source": [
    "if 'model' in vars() or 'model' in globals():\n",
    "    del model"
   ]
  },
  {
   "cell_type": "code",
   "execution_count": 12,
   "metadata": {},
   "outputs": [],
   "source": [
    "model = build_model(states, actions)"
   ]
  },
  {
   "cell_type": "code",
   "execution_count": 13,
   "metadata": {},
   "outputs": [
    {
     "name": "stdout",
     "output_type": "stream",
     "text": [
      "Model: \"sequential\"\n",
      "_________________________________________________________________\n",
      "Layer (type)                 Output Shape              Param #   \n",
      "=================================================================\n",
      "dense (Dense)                (None, 24)                48        \n",
      "_________________________________________________________________\n",
      "dense_1 (Dense)              (None, 24)                600       \n",
      "_________________________________________________________________\n",
      "dense_2 (Dense)              (None, 3)                 75        \n",
      "=================================================================\n",
      "Total params: 723\n",
      "Trainable params: 723\n",
      "Non-trainable params: 0\n",
      "_________________________________________________________________\n"
     ]
    }
   ],
   "source": [
    "model.summary()"
   ]
  },
  {
   "cell_type": "markdown",
   "metadata": {},
   "source": [
    "# 3. Build Agent with Keras-RL"
   ]
  },
  {
   "cell_type": "code",
   "execution_count": 14,
   "metadata": {},
   "outputs": [],
   "source": [
    "from rl.agents import DQNAgent\n",
    "from rl.policy import BoltzmannQPolicy\n",
    "from rl.memory import SequentialMemory"
   ]
  },
  {
   "cell_type": "code",
   "execution_count": 15,
   "metadata": {},
   "outputs": [],
   "source": [
    "def build_agent(model, actions):\n",
    "    policy = BoltzmannQPolicy()\n",
    "    memory = SequentialMemory(limit=50000, window_length=1)\n",
    "    dqn = DQNAgent(model=model, memory=memory, policy=policy, \n",
    "                  nb_actions=actions, nb_steps_warmup=10, target_model_update=1e-2)\n",
    "    return dqn"
   ]
  },
  {
   "cell_type": "code",
   "execution_count": 16,
   "metadata": {},
   "outputs": [
    {
     "name": "stderr",
     "output_type": "stream",
     "text": [
      "2023-10-12 16:35:24.162809: I tensorflow/core/platform/cpu_feature_guard.cc:142] This TensorFlow binary is optimized with oneAPI Deep Neural Network Library (oneDNN)to use the following CPU instructions in performance-critical operations:  AVX2 FMA\n",
      "To enable them in other operations, rebuild TensorFlow with the appropriate compiler flags.\n",
      "2023-10-12 16:35:24.176050: I tensorflow/compiler/xla/service/service.cc:168] XLA service 0x7f9a2fcd7c00 initialized for platform Host (this does not guarantee that XLA will be used). Devices:\n",
      "2023-10-12 16:35:24.176066: I tensorflow/compiler/xla/service/service.cc:176]   StreamExecutor device (0): Host, Default Version\n"
     ]
    },
    {
     "name": "stdout",
     "output_type": "stream",
     "text": [
      "Training for 50000 steps ...\n",
      "Interval 1 (0 steps performed)\n",
      "WARNING:tensorflow:From /Users/chesterbr/.pyenv/versions/3.7.17/lib/python3.7/site-packages/tensorflow/python/keras/engine/training_v1.py:2070: Model.state_updates (from tensorflow.python.keras.engine.training) is deprecated and will be removed in a future version.\n",
      "Instructions for updating:\n",
      "This property should not be used in TensorFlow 2.0, as updates are applied automatically.\n",
      "    1/10000 [..............................] - ETA: 4:49 - reward: 1.0000"
     ]
    },
    {
     "name": "stderr",
     "output_type": "stream",
     "text": [
      "/Users/chesterbr/.pyenv/versions/3.7.17/lib/python3.7/site-packages/rl/memory.py:37: UserWarning: Not enough entries to sample without replacement. Consider increasing your warm-up phase to avoid oversampling!\n",
      "  warnings.warn('Not enough entries to sample without replacement. Consider increasing your warm-up phase to avoid oversampling!')\n"
     ]
    },
    {
     "name": "stdout",
     "output_type": "stream",
     "text": [
      "10000/10000 [==============================] - 43s 4ms/step - reward: -0.5442\n",
      "166 episodes - episode_reward: -32.566 [-60.000, 20.000] - loss: 1.204 - mae: 7.194 - mean_q: -10.023\n",
      "\n",
      "Interval 2 (10000 steps performed)\n",
      "10000/10000 [==============================] - 44s 4ms/step - reward: -0.4894\n",
      "167 episodes - episode_reward: -29.437 [-60.000, 32.000] - loss: 2.415 - mae: 11.100 - mean_q: -15.926\n",
      "\n",
      "Interval 3 (20000 steps performed)\n",
      "10000/10000 [==============================] - 44s 4ms/step - reward: -0.4608\n",
      "167 episodes - episode_reward: -27.677 [-60.000, 36.000] - loss: 2.503 - mae: 11.269 - mean_q: -16.196\n",
      "\n",
      "Interval 4 (30000 steps performed)\n",
      "10000/10000 [==============================] - 45s 4ms/step - reward: -0.4748\n",
      "166 episodes - episode_reward: -28.687 [-60.000, 40.000] - loss: 2.414 - mae: 11.113 - mean_q: -15.969\n",
      "\n",
      "Interval 5 (40000 steps performed)\n",
      "10000/10000 [==============================] - 45s 5ms/step - reward: -0.4186\n",
      "done, took 220.962 seconds\n"
     ]
    },
    {
     "data": {
      "text/plain": [
       "<tensorflow.python.keras.callbacks.History at 0x12d313910>"
      ]
     },
     "execution_count": 16,
     "metadata": {},
     "output_type": "execute_result"
    }
   ],
   "source": [
    "dqn = build_agent(model, actions)\n",
    "dqn.compile(Adam(lr=1e-3), metrics=['mae'])\n",
    "dqn.fit(env, nb_steps=50000, visualize=False, verbose=1)"
   ]
  },
  {
   "cell_type": "code",
   "execution_count": 17,
   "metadata": {},
   "outputs": [
    {
     "name": "stdout",
     "output_type": "stream",
     "text": [
      "Testing for 100 episodes ...\n",
      "Episode 1: reward: -58.000, steps: 60\n",
      "Episode 2: reward: -54.000, steps: 60\n",
      "Episode 3: reward: -60.000, steps: 60\n",
      "Episode 4: reward: -60.000, steps: 60\n",
      "Episode 5: reward: -54.000, steps: 60\n",
      "Episode 6: reward: -56.000, steps: 60\n",
      "Episode 7: reward: -60.000, steps: 60\n",
      "Episode 8: reward: -58.000, steps: 60\n",
      "Episode 9: reward: -60.000, steps: 60\n",
      "Episode 10: reward: -56.000, steps: 60\n",
      "Episode 11: reward: -54.000, steps: 60\n",
      "Episode 12: reward: -60.000, steps: 60\n",
      "Episode 13: reward: -56.000, steps: 60\n",
      "Episode 14: reward: -60.000, steps: 60\n",
      "Episode 15: reward: -54.000, steps: 60\n",
      "Episode 16: reward: -60.000, steps: 60\n",
      "Episode 17: reward: -56.000, steps: 60\n",
      "Episode 18: reward: -58.000, steps: 60\n",
      "Episode 19: reward: -60.000, steps: 60\n",
      "Episode 20: reward: -54.000, steps: 60\n",
      "Episode 21: reward: -54.000, steps: 60\n",
      "Episode 22: reward: -60.000, steps: 60\n",
      "Episode 23: reward: -60.000, steps: 60\n",
      "Episode 24: reward: -60.000, steps: 60\n",
      "Episode 25: reward: -54.000, steps: 60\n",
      "Episode 26: reward: -60.000, steps: 60\n",
      "Episode 27: reward: -54.000, steps: 60\n",
      "Episode 28: reward: -56.000, steps: 60\n",
      "Episode 29: reward: -60.000, steps: 60\n",
      "Episode 30: reward: -54.000, steps: 60\n",
      "Episode 31: reward: -54.000, steps: 60\n",
      "Episode 32: reward: -54.000, steps: 60\n",
      "Episode 33: reward: -60.000, steps: 60\n",
      "Episode 34: reward: -58.000, steps: 60\n",
      "Episode 35: reward: -60.000, steps: 60\n",
      "Episode 36: reward: -54.000, steps: 60\n",
      "Episode 37: reward: -60.000, steps: 60\n",
      "Episode 38: reward: -56.000, steps: 60\n",
      "Episode 39: reward: -54.000, steps: 60\n",
      "Episode 40: reward: -60.000, steps: 60\n",
      "Episode 41: reward: -60.000, steps: 60\n",
      "Episode 42: reward: -60.000, steps: 60\n",
      "Episode 43: reward: -58.000, steps: 60\n",
      "Episode 44: reward: -58.000, steps: 60\n",
      "Episode 45: reward: -60.000, steps: 60\n",
      "Episode 46: reward: -60.000, steps: 60\n",
      "Episode 47: reward: -56.000, steps: 60\n",
      "Episode 48: reward: -54.000, steps: 60\n",
      "Episode 49: reward: -58.000, steps: 60\n",
      "Episode 50: reward: -56.000, steps: 60\n",
      "Episode 51: reward: -58.000, steps: 60\n",
      "Episode 52: reward: -60.000, steps: 60\n",
      "Episode 53: reward: -58.000, steps: 60\n",
      "Episode 54: reward: -60.000, steps: 60\n",
      "Episode 55: reward: -60.000, steps: 60\n",
      "Episode 56: reward: -60.000, steps: 60\n",
      "Episode 57: reward: -58.000, steps: 60\n",
      "Episode 58: reward: -60.000, steps: 60\n",
      "Episode 59: reward: -60.000, steps: 60\n",
      "Episode 60: reward: -54.000, steps: 60\n",
      "Episode 61: reward: -60.000, steps: 60\n",
      "Episode 62: reward: -60.000, steps: 60\n",
      "Episode 63: reward: -54.000, steps: 60\n",
      "Episode 64: reward: -60.000, steps: 60\n",
      "Episode 65: reward: -60.000, steps: 60\n",
      "Episode 66: reward: -54.000, steps: 60\n",
      "Episode 67: reward: -58.000, steps: 60\n",
      "Episode 68: reward: -60.000, steps: 60\n",
      "Episode 69: reward: -60.000, steps: 60\n",
      "Episode 70: reward: -56.000, steps: 60\n",
      "Episode 71: reward: -58.000, steps: 60\n",
      "Episode 72: reward: -60.000, steps: 60\n",
      "Episode 73: reward: -56.000, steps: 60\n",
      "Episode 74: reward: -58.000, steps: 60\n",
      "Episode 75: reward: -60.000, steps: 60\n",
      "Episode 76: reward: -56.000, steps: 60\n",
      "Episode 77: reward: -60.000, steps: 60\n",
      "Episode 78: reward: -54.000, steps: 60\n",
      "Episode 79: reward: -54.000, steps: 60\n",
      "Episode 80: reward: -60.000, steps: 60\n",
      "Episode 81: reward: -60.000, steps: 60\n",
      "Episode 82: reward: -54.000, steps: 60\n",
      "Episode 83: reward: -60.000, steps: 60\n",
      "Episode 84: reward: -56.000, steps: 60\n",
      "Episode 85: reward: -54.000, steps: 60\n",
      "Episode 86: reward: -60.000, steps: 60\n",
      "Episode 87: reward: -60.000, steps: 60\n",
      "Episode 88: reward: -60.000, steps: 60\n",
      "Episode 89: reward: -60.000, steps: 60\n",
      "Episode 90: reward: -60.000, steps: 60\n",
      "Episode 91: reward: -58.000, steps: 60\n",
      "Episode 92: reward: -58.000, steps: 60\n",
      "Episode 93: reward: -58.000, steps: 60\n",
      "Episode 94: reward: -58.000, steps: 60\n",
      "Episode 95: reward: -60.000, steps: 60\n",
      "Episode 96: reward: -54.000, steps: 60\n",
      "Episode 97: reward: -60.000, steps: 60\n",
      "Episode 98: reward: -60.000, steps: 60\n",
      "Episode 99: reward: -60.000, steps: 60\n",
      "Episode 100: reward: -60.000, steps: 60\n",
      "-57.86\n"
     ]
    }
   ],
   "source": [
    "scores = dqn.test(env, nb_episodes=100, visualize=False)\n",
    "print(np.mean(scores.history['episode_reward']))"
   ]
  },
  {
   "cell_type": "code",
   "execution_count": 18,
   "metadata": {},
   "outputs": [
    {
     "name": "stdout",
     "output_type": "stream",
     "text": [
      "Testing for 15 episodes ...\n"
     ]
    },
    {
     "ename": "TypeError",
     "evalue": "render() got an unexpected keyword argument 'mode'",
     "output_type": "error",
     "traceback": [
      "\u001b[0;31m---------------------------------------------------------------------------\u001b[0m",
      "\u001b[0;31mTypeError\u001b[0m                                 Traceback (most recent call last)",
      "\u001b[0;32m/var/folders/pf/3rrm384n0px745nn4lbs8knr0000gn/T/ipykernel_52237/1707928472.py\u001b[0m in \u001b[0;36m<module>\u001b[0;34m\u001b[0m\n\u001b[0;32m----> 1\u001b[0;31m \u001b[0m_\u001b[0m \u001b[0;34m=\u001b[0m \u001b[0mdqn\u001b[0m\u001b[0;34m.\u001b[0m\u001b[0mtest\u001b[0m\u001b[0;34m(\u001b[0m\u001b[0menv\u001b[0m\u001b[0;34m,\u001b[0m \u001b[0mnb_episodes\u001b[0m\u001b[0;34m=\u001b[0m\u001b[0;36m15\u001b[0m\u001b[0;34m,\u001b[0m \u001b[0mvisualize\u001b[0m\u001b[0;34m=\u001b[0m\u001b[0;32mTrue\u001b[0m\u001b[0;34m)\u001b[0m\u001b[0;34m\u001b[0m\u001b[0;34m\u001b[0m\u001b[0m\n\u001b[0m",
      "\u001b[0;32m~/.pyenv/versions/3.7.17/lib/python3.7/site-packages/rl/core.py\u001b[0m in \u001b[0;36mtest\u001b[0;34m(self, env, nb_episodes, action_repetition, callbacks, visualize, nb_max_episode_steps, nb_max_start_steps, start_step_policy, verbose)\u001b[0m\n\u001b[1;32m    350\u001b[0m                     \u001b[0;32mif\u001b[0m \u001b[0mself\u001b[0m\u001b[0;34m.\u001b[0m\u001b[0mprocessor\u001b[0m \u001b[0;32mis\u001b[0m \u001b[0;32mnot\u001b[0m \u001b[0;32mNone\u001b[0m\u001b[0;34m:\u001b[0m\u001b[0;34m\u001b[0m\u001b[0;34m\u001b[0m\u001b[0m\n\u001b[1;32m    351\u001b[0m                         \u001b[0mobservation\u001b[0m\u001b[0;34m,\u001b[0m \u001b[0mr\u001b[0m\u001b[0;34m,\u001b[0m \u001b[0md\u001b[0m\u001b[0;34m,\u001b[0m \u001b[0minfo\u001b[0m \u001b[0;34m=\u001b[0m \u001b[0mself\u001b[0m\u001b[0;34m.\u001b[0m\u001b[0mprocessor\u001b[0m\u001b[0;34m.\u001b[0m\u001b[0mprocess_step\u001b[0m\u001b[0;34m(\u001b[0m\u001b[0mobservation\u001b[0m\u001b[0;34m,\u001b[0m \u001b[0mr\u001b[0m\u001b[0;34m,\u001b[0m \u001b[0md\u001b[0m\u001b[0;34m,\u001b[0m \u001b[0minfo\u001b[0m\u001b[0;34m)\u001b[0m\u001b[0;34m\u001b[0m\u001b[0;34m\u001b[0m\u001b[0m\n\u001b[0;32m--> 352\u001b[0;31m                     \u001b[0mcallbacks\u001b[0m\u001b[0;34m.\u001b[0m\u001b[0mon_action_end\u001b[0m\u001b[0;34m(\u001b[0m\u001b[0maction\u001b[0m\u001b[0;34m)\u001b[0m\u001b[0;34m\u001b[0m\u001b[0;34m\u001b[0m\u001b[0m\n\u001b[0m\u001b[1;32m    353\u001b[0m                     \u001b[0mreward\u001b[0m \u001b[0;34m+=\u001b[0m \u001b[0mr\u001b[0m\u001b[0;34m\u001b[0m\u001b[0;34m\u001b[0m\u001b[0m\n\u001b[1;32m    354\u001b[0m                     \u001b[0;32mfor\u001b[0m \u001b[0mkey\u001b[0m\u001b[0;34m,\u001b[0m \u001b[0mvalue\u001b[0m \u001b[0;32min\u001b[0m \u001b[0minfo\u001b[0m\u001b[0;34m.\u001b[0m\u001b[0mitems\u001b[0m\u001b[0;34m(\u001b[0m\u001b[0;34m)\u001b[0m\u001b[0;34m:\u001b[0m\u001b[0;34m\u001b[0m\u001b[0;34m\u001b[0m\u001b[0m\n",
      "\u001b[0;32m~/.pyenv/versions/3.7.17/lib/python3.7/site-packages/rl/callbacks.py\u001b[0m in \u001b[0;36mon_action_end\u001b[0;34m(self, action, logs)\u001b[0m\n\u001b[1;32m     96\u001b[0m         \u001b[0;32mfor\u001b[0m \u001b[0mcallback\u001b[0m \u001b[0;32min\u001b[0m \u001b[0mself\u001b[0m\u001b[0;34m.\u001b[0m\u001b[0mcallbacks\u001b[0m\u001b[0;34m:\u001b[0m\u001b[0;34m\u001b[0m\u001b[0;34m\u001b[0m\u001b[0m\n\u001b[1;32m     97\u001b[0m             \u001b[0;32mif\u001b[0m \u001b[0mcallable\u001b[0m\u001b[0;34m(\u001b[0m\u001b[0mgetattr\u001b[0m\u001b[0;34m(\u001b[0m\u001b[0mcallback\u001b[0m\u001b[0;34m,\u001b[0m \u001b[0;34m'on_action_end'\u001b[0m\u001b[0;34m,\u001b[0m \u001b[0;32mNone\u001b[0m\u001b[0;34m)\u001b[0m\u001b[0;34m)\u001b[0m\u001b[0;34m:\u001b[0m\u001b[0;34m\u001b[0m\u001b[0;34m\u001b[0m\u001b[0m\n\u001b[0;32m---> 98\u001b[0;31m                 \u001b[0mcallback\u001b[0m\u001b[0;34m.\u001b[0m\u001b[0mon_action_end\u001b[0m\u001b[0;34m(\u001b[0m\u001b[0maction\u001b[0m\u001b[0;34m,\u001b[0m \u001b[0mlogs\u001b[0m\u001b[0;34m=\u001b[0m\u001b[0mlogs\u001b[0m\u001b[0;34m)\u001b[0m\u001b[0;34m\u001b[0m\u001b[0;34m\u001b[0m\u001b[0m\n\u001b[0m\u001b[1;32m     99\u001b[0m \u001b[0;34m\u001b[0m\u001b[0m\n\u001b[1;32m    100\u001b[0m \u001b[0;34m\u001b[0m\u001b[0m\n",
      "\u001b[0;32m~/.pyenv/versions/3.7.17/lib/python3.7/site-packages/rl/callbacks.py\u001b[0m in \u001b[0;36mon_action_end\u001b[0;34m(self, action, logs)\u001b[0m\n\u001b[1;32m    358\u001b[0m     \u001b[0;32mdef\u001b[0m \u001b[0mon_action_end\u001b[0m\u001b[0;34m(\u001b[0m\u001b[0mself\u001b[0m\u001b[0;34m,\u001b[0m \u001b[0maction\u001b[0m\u001b[0;34m,\u001b[0m \u001b[0mlogs\u001b[0m\u001b[0;34m)\u001b[0m\u001b[0;34m:\u001b[0m\u001b[0;34m\u001b[0m\u001b[0;34m\u001b[0m\u001b[0m\n\u001b[1;32m    359\u001b[0m         \u001b[0;34m\"\"\" Render environment at the end of each action \"\"\"\u001b[0m\u001b[0;34m\u001b[0m\u001b[0;34m\u001b[0m\u001b[0m\n\u001b[0;32m--> 360\u001b[0;31m         \u001b[0mself\u001b[0m\u001b[0;34m.\u001b[0m\u001b[0menv\u001b[0m\u001b[0;34m.\u001b[0m\u001b[0mrender\u001b[0m\u001b[0;34m(\u001b[0m\u001b[0mmode\u001b[0m\u001b[0;34m=\u001b[0m\u001b[0;34m'human'\u001b[0m\u001b[0;34m)\u001b[0m\u001b[0;34m\u001b[0m\u001b[0;34m\u001b[0m\u001b[0m\n\u001b[0m\u001b[1;32m    361\u001b[0m \u001b[0;34m\u001b[0m\u001b[0m\n\u001b[1;32m    362\u001b[0m \u001b[0;34m\u001b[0m\u001b[0m\n",
      "\u001b[0;31mTypeError\u001b[0m: render() got an unexpected keyword argument 'mode'"
     ]
    }
   ],
   "source": [
    "_ = dqn.test(env, nb_episodes=15, visualize=True)"
   ]
  },
  {
   "cell_type": "markdown",
   "metadata": {},
   "source": [
    "# 4. Reloading Agent from Memory"
   ]
  },
  {
   "cell_type": "code",
   "execution_count": null,
   "metadata": {},
   "outputs": [],
   "source": [
    "dqn.save_weights('dqn_weights.h5f', overwrite=True)"
   ]
  },
  {
   "cell_type": "code",
   "execution_count": null,
   "metadata": {},
   "outputs": [],
   "source": [
    "del model\n",
    "del dqn\n",
    "del env"
   ]
  },
  {
   "cell_type": "code",
   "execution_count": null,
   "metadata": {},
   "outputs": [],
   "source": [
    "env = gym.make('CartPole-v0')\n",
    "actions = env.action_space.n\n",
    "states = env.observation_space.shape[0]\n",
    "model = build_model(states, actions)\n",
    "dqn = build_agent(model, actions)\n",
    "dqn.compile(Adam(lr=1e-3), metrics=['mae'])"
   ]
  },
  {
   "cell_type": "code",
   "execution_count": null,
   "metadata": {},
   "outputs": [],
   "source": [
    "dqn.load_weights('dqn_weights.h5f')"
   ]
  },
  {
   "cell_type": "code",
   "execution_count": null,
   "metadata": {},
   "outputs": [],
   "source": [
    "_ = dqn.test(env, nb_episodes=5, visualize=True)"
   ]
  },
  {
   "cell_type": "code",
   "execution_count": null,
   "metadata": {},
   "outputs": [],
   "source": []
  }
 ],
 "metadata": {
  "kernelspec": {
   "display_name": "Python 3 (ipykernel)",
   "language": "python",
   "name": "python3"
  },
  "language_info": {
   "codemirror_mode": {
    "name": "ipython",
    "version": 3
   },
   "file_extension": ".py",
   "mimetype": "text/x-python",
   "name": "python",
   "nbconvert_exporter": "python",
   "pygments_lexer": "ipython3",
   "version": "3.7.17"
  }
 },
 "nbformat": 4,
 "nbformat_minor": 2
}
