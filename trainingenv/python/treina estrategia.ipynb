{
 "cells": [
  {
   "cell_type": "code",
   "execution_count": 1,
   "id": "18bfb50a",
   "metadata": {},
   "outputs": [],
   "source": [
    "from gym import Env\n",
    "from gym.spaces import Discrete, Tuple\n",
    "import numpy as np\n",
    "import random\n",
    "\n",
    "from tensorflow.keras.models import Sequential\n",
    "from tensorflow.keras.layers import Dense, Flatten\n",
    "from tensorflow.keras.optimizers import Adam\n",
    "\n",
    "from rl.agents import DQNAgent\n",
    "from rl.policy import BoltzmannQPolicy\n",
    "from rl.memory import SequentialMemory\n",
    "\n",
    "from py4j.java_gateway import JavaGateway"
   ]
  },
  {
   "cell_type": "code",
   "execution_count": 2,
   "id": "9ee66a99",
   "metadata": {},
   "outputs": [],
   "source": [
    "# Conecta no servidor de treinamento\n",
    "gateway = JavaGateway()\n",
    "minitruco_java = gateway.entry_point "
   ]
  },
  {
   "cell_type": "code",
   "execution_count": 3,
   "id": "26d206ca",
   "metadata": {},
   "outputs": [],
   "source": [
    "# Env customizado do gym\n",
    "\n",
    "class MinitrucoEnv(Env):\n",
    "    def __init__(self):\n",
    "        # Ações que podemos tomar: jogar a carta 0, a carta 1 ou a carta 2\n",
    "        self.action_space = Discrete(3)\n",
    "        \n",
    "        # Estados possíveis\n",
    "        # - posições: 1=inferior, 2=direita, 3=superior, 4=esquerda    \n",
    "        # - equipes: 1=posições 1 e 3; 2=posições 2 e 4\n",
    "        # - cartas: podem valer -1 (null), 0 (fechada) ou um valor de 1\n",
    "        #           a 14, conforme o valor relativo delas (cartas normais de 1\n",
    "        #           a 10, manilhas de 11 a 14)\n",
    "        # - rodadas: 1 a 3\n",
    "        # - resultado da rodada: a equipe que venceu (1 ou 2), 3 para empate ou -1 para rodada não conlcuída\n",
    "        # - booleanos (ex.: podeFechada) são 0 ou 1\n",
    "        # TBD posJogadorPedindoAumento (acho que não zera depois do aumento)\n",
    "        # TBD tento mineiro (talvez só varie as recompensas, mas é preciso especificar)\n",
    "        # TBD baralho limpo (provavelmente só vamos excluir o range 1-4)\n",
    "        self.observation_space = Tuple((\n",
    "            Discrete(4, start=1),    # posJogador\n",
    "            Discrete(2),             # baralhoSujo\n",
    "            Discrete(2),             # podeFechada\n",
    "            Discrete(3, start=1),    # numRodadaAtual\n",
    "            Discrete(3, start=1),    # resultadoRodada1\n",
    "            Discrete(3, start=1),    # resultadoRodada2\n",
    "            Discrete(12, start=1),   # valorMao\n",
    "            Discrete(13, start=0),   # valorProximaAposta\n",
    "            Discrete(4, start=1),    # posJogadorPedindoAumento\n",
    "            Discrete(4, start=1),    # posJogadorQueAbriuRodada\n",
    "            Discrete(24, start=0),   # pontosEquipe1\n",
    "            Discrete(24, start=0),   # pontosEquipe2\n",
    "            Discrete(16, start=-1),  # cartaJogadaRodada1Pos1\n",
    "            Discrete(16, start=-1),  # cartaJogadaRodada1Pos2\n",
    "            Discrete(16, start=-1),  # cartaJogadaRodada1Pos3\n",
    "            Discrete(16, start=-1),  # cartaJogadaRodada1Pos4\n",
    "            Discrete(16, start=-1),  # cartaJogadaRodada2Pos1\n",
    "            Discrete(16, start=-1),  # cartaJogadaRodada2Pos2\n",
    "            Discrete(16, start=-1),  # cartaJogadaRodada2Pos3\n",
    "            Discrete(16, start=-1),  # cartaJogadaRodada2Pos4\n",
    "            Discrete(16, start=-1),  # cartaJogadaRodada3Pos1\n",
    "            Discrete(16, start=-1),  # cartaJogadaRodada3Pos2\n",
    "            Discrete(16, start=-1),  # cartaJogadaRodada3Pos3\n",
    "            Discrete(16, start=-1),  # cartaJogadaRodada3Pos4\n",
    "            Discrete(16, start=-1),  # carta1Jogador\n",
    "            Discrete(16, start=-1),  # carta2Jogador\n",
    "            Discrete(16, start=-1)   # carta3Jogador\n",
    "        ))\n",
    "        \n",
    "        self.episodio = None\n",
    "        self.state = None\n",
    "        \n",
    "    def step(self, action):\n",
    "        last_observation = self.state\n",
    "        cartaJogada = last_observation[24 + action]\n",
    "        if cartaJogada == -1:\n",
    "            # Jogada inválida\n",
    "            return last_observation, 0, False, {}\n",
    "        \n",
    "        self.episodio.executa(action)\n",
    "        estado_str = self.episodio.estado()\n",
    "        if estado_str == \"EQUIPE 1 VENCEU\":\n",
    "            return None, 1.0, True, {}\n",
    "        if estado_str == \"EQUIPE 2 VENCEU\":\n",
    "            return None, -1.0, True, {}\n",
    "                \n",
    "        self.state = tuple(map(int, estado_str.split()))\n",
    "        \n",
    "        pontosEquipe1 = self.state[10]\n",
    "        pontosEquipe2 = self.state[11]\n",
    "        \n",
    "        reward = 0.0\n",
    "        done = False\n",
    "        \n",
    "        return self.state, reward, done, {}\n",
    "\n",
    "    def render(self):\n",
    "        pass\n",
    "    \n",
    "    def reset(self):\n",
    "        if self.episodio is not None:\n",
    "            self.episodio.finaliza()\n",
    "        \n",
    "        self.episodio = minitruco_java.novoEpisodio()\n",
    "        self.state = tuple(map(int, self.episodio.estado().split()))\n",
    "        \n",
    "        return self.state\n",
    "    "
   ]
  },
  {
   "cell_type": "code",
   "execution_count": 4,
   "id": "6b11887e",
   "metadata": {},
   "outputs": [],
   "source": [
    "###### Testando a comunicação com o servidor de treino"
   ]
  },
  {
   "cell_type": "code",
   "execution_count": 5,
   "id": "1eaf3982",
   "metadata": {},
   "outputs": [],
   "source": [
    "gateway = JavaGateway()\n",
    "minitruco_java = gateway.entry_point "
   ]
  },
  {
   "cell_type": "code",
   "execution_count": 6,
   "id": "62da7bfa",
   "metadata": {},
   "outputs": [],
   "source": [
    "episodio = minitruco_java.novoEpisodio()\n",
    "# print(episodio.estado().split())"
   ]
  },
  {
   "cell_type": "code",
   "execution_count": 7,
   "id": "47e9d128",
   "metadata": {},
   "outputs": [],
   "source": [
    "episodio.executa(0)\n",
    "# print(episodio.estado().split())"
   ]
  },
  {
   "cell_type": "code",
   "execution_count": 8,
   "id": "283d84ba",
   "metadata": {},
   "outputs": [],
   "source": [
    "episodio.finaliza()"
   ]
  },
  {
   "cell_type": "code",
   "execution_count": 9,
   "id": "8febe9c3",
   "metadata": {},
   "outputs": [],
   "source": [
    "###### Rodando alguns episódios com estratégia \"jogue uma carta aleatoriamente\""
   ]
  },
  {
   "cell_type": "code",
   "execution_count": 10,
   "id": "31badfe2",
   "metadata": {},
   "outputs": [],
   "source": [
    "env = MinitrucoEnv()"
   ]
  },
  {
   "cell_type": "code",
   "execution_count": 11,
   "id": "8909f8e6",
   "metadata": {},
   "outputs": [
    {
     "name": "stdout",
     "output_type": "stream",
     "text": [
      "Episode:1 Score:1.0 Time:20.43039107322693s\n",
      "Episode:2 Score:-1.0 Time:19.498448133468628s\n",
      "Episode:3 Score:1.0 Time:24.19328999519348s\n",
      "Episode:4 Score:-1.0 Time:23.83010768890381s\n",
      "Episode:5 Score:-1.0 Time:22.74300980567932s\n",
      "Episode:6 Score:-1.0 Time:23.60432004928589s\n",
      "Episode:7 Score:-1.0 Time:22.262662887573242s\n",
      "Episode:8 Score:-1.0 Time:21.933605194091797s\n",
      "Episode:9 Score:1.0 Time:24.489030122756958s\n",
      "Episode:10 Score:-1.0 Time:16.342250108718872s\n"
     ]
    }
   ],
   "source": [
    "import time\n",
    "\n",
    "episodes = 10\n",
    "for episode in range(1, episodes+1):\n",
    "    state = env.reset()\n",
    "    done = False\n",
    "    score = 0 \n",
    "    start = time.time()\n",
    "    \n",
    "    while not done:\n",
    "        #env.render()\n",
    "        action = env.action_space.sample()\n",
    "        n_state, reward, done, info = env.step(action)\n",
    "        score+=reward\n",
    "    print('Episode:{} Score:{} Time:{}s'.format(episode, score, time.time() - start))"
   ]
  }
 ],
 "metadata": {
  "kernelspec": {
   "display_name": "Python 3 (ipykernel)",
   "language": "python",
   "name": "python3"
  },
  "language_info": {
   "codemirror_mode": {
    "name": "ipython",
    "version": 3
   },
   "file_extension": ".py",
   "mimetype": "text/x-python",
   "name": "python",
   "nbconvert_exporter": "python",
   "pygments_lexer": "ipython3",
   "version": "3.7.17"
  }
 },
 "nbformat": 4,
 "nbformat_minor": 5
}
