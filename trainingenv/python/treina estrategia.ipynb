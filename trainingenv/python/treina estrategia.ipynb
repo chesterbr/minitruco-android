{
 "cells": [
  {
   "cell_type": "code",
   "execution_count": 1,
   "id": "97cf379b",
   "metadata": {},
   "outputs": [],
   "source": [
    "from gym import Env\n",
    "from gym.spaces import Discrete, Tuple\n",
    "import numpy as np\n",
    "import random\n",
    "\n",
    "from tensorflow.keras.models import Sequential\n",
    "from tensorflow.keras.layers import Dense, Flatten\n",
    "from tensorflow.keras.optimizers import Adam\n",
    "\n",
    "from rl.agents import DQNAgent\n",
    "from rl.policy import BoltzmannQPolicy\n",
    "from rl.memory import SequentialMemory\n",
    "\n",
    "from py4j.java_gateway import JavaGateway"
   ]
  },
  {
   "cell_type": "code",
   "execution_count": 2,
   "id": "349ae83c",
   "metadata": {},
   "outputs": [],
   "source": [
    "# Conecta no servidor de treinamento\n",
    "gateway = JavaGateway()\n",
    "minitruco_java = gateway.entry_point "
   ]
  },
  {
   "cell_type": "code",
   "execution_count": 13,
   "id": "2f9fdcc6",
   "metadata": {},
   "outputs": [],
   "source": [
    "# Env customizado do gym\n",
    "\n",
    "class MinitrucoEnv(Env):\n",
    "    def __init__(self):\n",
    "        # Ações que podemos tomar: jogar a carta 0, a carta 1 ou a carta 2\n",
    "        self.action_space = Discrete(3)\n",
    "        \n",
    "        # Estados possíveis\n",
    "        # - posições: 1=inferior, 2=direita, 3=superior, 4=esquerda    \n",
    "        # - equipes: 1=posições 1 e 3; 2=posições 2 e 4\n",
    "        # - cartas: podem valer -1 (null), 0 (fechada) ou um valor de 1\n",
    "        #           a 14, conforme o valor relativo delas (cartas normais de 1\n",
    "        #           a 10, manilhas de 11 a 14)\n",
    "        # - rodadas: 1 a 3\n",
    "        # - resultado da rodada: a equipe que venceu (1 ou 2), 3 para empate ou -1 para rodada não conlcuída\n",
    "        # - booleanos (ex.: podeFechada) são 0 ou 1\n",
    "        # TBD posJogadorPedindoAumento (acho que não zera depois do aumento)\n",
    "        # TBD tento mineiro (talvez só varie as recompensas, mas é preciso especificar)\n",
    "        # TBD baralho limpo (provavelmente só vamos excluir o range 1-4)\n",
    "        self.observation_space = Tuple((\n",
    "            Discrete(4, start=1),    # posJogador\n",
    "            Discrete(2),             # baralhoSujo\n",
    "            Discrete(2),             # podeFechada\n",
    "            Discrete(3, start=1),    # numRodadaAtual\n",
    "            Discrete(3, start=1),    # resultadoRodada1\n",
    "            Discrete(3, start=1),    # resultadoRodada2\n",
    "            Discrete(12, start=1),   # valorMao\n",
    "            Discrete(13, start=0),   # valorProximaAposta\n",
    "            Discrete(4, start=1),    # posJogadorPedindoAumento\n",
    "            Discrete(4, start=1),    # posJogadorQueAbriuRodada\n",
    "            Discrete(24, start=0),   # pontosEquipe1\n",
    "            Discrete(24, start=0),   # pontosEquipe2\n",
    "            Discrete(16, start=-1),  # cartaJogadaRodada1Pos1\n",
    "            Discrete(16, start=-1),  # cartaJogadaRodada1Pos2\n",
    "            Discrete(16, start=-1),  # cartaJogadaRodada1Pos3\n",
    "            Discrete(16, start=-1),  # cartaJogadaRodada1Pos4\n",
    "            Discrete(16, start=-1),  # cartaJogadaRodada2Pos1\n",
    "            Discrete(16, start=-1),  # cartaJogadaRodada2Pos2\n",
    "            Discrete(16, start=-1),  # cartaJogadaRodada2Pos3\n",
    "            Discrete(16, start=-1),  # cartaJogadaRodada2Pos4\n",
    "            Discrete(16, start=-1),  # cartaJogadaRodada3Pos1\n",
    "            Discrete(16, start=-1),  # cartaJogadaRodada3Pos2\n",
    "            Discrete(16, start=-1),  # cartaJogadaRodada3Pos3\n",
    "            Discrete(16, start=-1),  # cartaJogadaRodada3Pos4\n",
    "            Discrete(16, start=-1),  # carta1Jogador\n",
    "            Discrete(16, start=-1),  # carta2Jogador\n",
    "            Discrete(16, start=-1)   # carta3Jogador\n",
    "        ))\n",
    "        \n",
    "        self.episodio = minitruco_java.novoEpisodio()\n",
    "        self.state = self.episodio.estado().split()\n",
    "        \n",
    "    def step(self, action):\n",
    "#         last_observation = self.current_observation\n",
    "        self.episodio.executa(action)\n",
    "        observation = self.episodio.estado().split()\n",
    "        \n",
    "        pontosEquipe1 = observation[10]\n",
    "        pontosEquipe2 = observation[11]\n",
    "        \n",
    "#         pontosGanhosEquipe1 = observation[10] - last_observation[10]\n",
    "#         pontosGanhoesEquipe2 = observation[11] - last_observation[11]\n",
    "        \n",
    "        reward = 0.0\n",
    "        done = False\n",
    "        if (pontosEquipe1 > 11):\n",
    "            reward += 1.0\n",
    "            done = True\n",
    "        elif (pontosEquipe2 > 11):\n",
    "            reward += -1.0\n",
    "            done = True\n",
    "        \n",
    "        return observation, reward, done, {}\n",
    "\n",
    "    def render(self):\n",
    "        pass\n",
    "    \n",
    "    def reset(self):\n",
    "        self.episodio.finaliza()\n",
    "        \n",
    "        self.episodio = minitruco_java.novoEpisodio()\n",
    "        return self.episodio.estado().split()\n",
    "    "
   ]
  },
  {
   "cell_type": "code",
   "execution_count": 4,
   "id": "2813c559",
   "metadata": {},
   "outputs": [],
   "source": [
    "###### Testando a comunicação com o servidor de treino"
   ]
  },
  {
   "cell_type": "code",
   "execution_count": 5,
   "id": "cb34c9cb",
   "metadata": {},
   "outputs": [],
   "source": [
    "gateway = JavaGateway()\n",
    "minitruco_java = gateway.entry_point "
   ]
  },
  {
   "cell_type": "code",
   "execution_count": 6,
   "id": "cfbd0d85",
   "metadata": {},
   "outputs": [
    {
     "name": "stdout",
     "output_type": "stream",
     "text": [
      "['1', '1', '0', '1', '-1', '-1', '1', '3', '0', '1', '0', '0', '-1', '-1', '-1', '-1', '-1', '-1', '-1', '-1', '-1', '-1', '-1', '-1', '8', '12', '5']\n"
     ]
    }
   ],
   "source": [
    "episodio = minitruco_java.novoEpisodio()\n",
    "print(episodio.estado().split())"
   ]
  },
  {
   "cell_type": "code",
   "execution_count": 7,
   "id": "f864789e",
   "metadata": {},
   "outputs": [
    {
     "name": "stdout",
     "output_type": "stream",
     "text": [
      "['1', '1', '1', '2', '2', '-1', '1', '3', '0', '2', '0', '0', '8', '13', '4', '3', '-1', '4', '8', '9', '-1', '-1', '-1', '-1', '12', '5', '-1']\n"
     ]
    }
   ],
   "source": [
    "episodio.executa(0)\n",
    "print(episodio.estado().split())"
   ]
  },
  {
   "cell_type": "code",
   "execution_count": 8,
   "id": "602ee636",
   "metadata": {},
   "outputs": [],
   "source": [
    "episodio.finaliza()"
   ]
  },
  {
   "cell_type": "code",
   "execution_count": 9,
   "id": "07dce4c2",
   "metadata": {},
   "outputs": [],
   "source": [
    "#################################"
   ]
  },
  {
   "cell_type": "code",
   "execution_count": 14,
   "id": "675d9644",
   "metadata": {},
   "outputs": [],
   "source": [
    "env = MinitrucoEnv()"
   ]
  }
 ],
 "metadata": {
  "kernelspec": {
   "display_name": "Python 3 (ipykernel)",
   "language": "python",
   "name": "python3"
  },
  "language_info": {
   "codemirror_mode": {
    "name": "ipython",
    "version": 3
   },
   "file_extension": ".py",
   "mimetype": "text/x-python",
   "name": "python",
   "nbconvert_exporter": "python",
   "pygments_lexer": "ipython3",
   "version": "3.7.17"
  }
 },
 "nbformat": 4,
 "nbformat_minor": 5
}
