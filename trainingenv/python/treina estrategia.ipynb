{
 "cells": [
  {
   "cell_type": "code",
   "execution_count": 1,
   "id": "a866cb00",
   "metadata": {},
   "outputs": [],
   "source": [
    "from gym import Env\n",
    "from gym.spaces import Discrete, Box, Dict\n",
    "import numpy as np\n",
    "import random\n",
    "\n",
    "from tensorflow.keras.models import Sequential\n",
    "from tensorflow.keras.layers import Dense, Flatten\n",
    "from tensorflow.keras.optimizers import Adam\n",
    "\n",
    "from rl.agents import DQNAgent\n",
    "from rl.policy import BoltzmannQPolicy\n",
    "from rl.memory import SequentialMemory\n",
    "\n",
    "from py4j.java_gateway import JavaGateway"
   ]
  },
  {
   "cell_type": "code",
   "execution_count": 26,
   "id": "14b2980b",
   "metadata": {},
   "outputs": [],
   "source": [
    "gateway = JavaGateway()\n",
    "minitruco_java = gateway.entry_point "
   ]
  },
  {
   "cell_type": "code",
   "execution_count": null,
   "id": "2ac84f1c",
   "metadata": {
    "collapsed": true
   },
   "outputs": [],
   "source": [
    "class MinitrucoEnv(Env):\n",
    "    def __init__(self):\n",
    "        # Ações que podemos tomar: jogar a carta 0, a carta 1 ou a carta 2\n",
    "        self.action_space = Discrete(3)\n",
    "        \n",
    "        # Estados possíveis\n",
    "        # - posições: 1=inferior, 2=direita, 3=superior, 4=esquerda    \n",
    "        # - equipes: 1=posições 1 e 3; 2=posições 2 e 4\n",
    "        # - cartas: podem valer -1 (null), 0 (fechada) ou um valor de 1\n",
    "        #           a 14, conforme o valor relativo delas (cartas normais de 1\n",
    "        #           a 10, manilhas de 11 a 14)\n",
    "        # - rodadas: 1 a 3\n",
    "        # - resultado da rodada: a equipe que venceu (1 ou 2), 3 para empate ou -1 para rodada não conlcuída\n",
    "        # - booleanos (ex.: podeFechada) são 0 ou 1\n",
    "        # TBD posJogadorPedindoAumento (acho que não zera depois do aumento)\n",
    "        # TBD tento mineiro (talvez só varie as recompensas, mas é preciso especificar)\n",
    "        # TBD baralho limpo (provavelmente só vamos excluir o range 1-4)\n",
    "        self.observation_space = Tuple((\n",
    "                spaces.Discrete(4, start=1),    # posJogador\n",
    "                spaces.Discrete(3, start=1),    # numRodadaAtual\n",
    "                spaces.Discrete(3, start=1),    # resultadoRodada1\n",
    "                spaces.Discrete(3, start=1),    # resultadoRodada2\n",
    "                spaces.Discrete(12, start=1),   # valorMao\n",
    "                spaces.Discrete(13, start=0),   # valorProximaAposta\n",
    "                spaces.Discrete(4, start=1),    # posJogadorPedindoAumento\n",
    "                spaces.Discrete(4, start=1),    # posJogadorQueAbriuRodada\n",
    "                spaces.Discrete(24, start=0),   # pontosEquipe1\n",
    "                spaces.Discrete(24, start=0),   # pontosEquipe2\n",
    "                spaces.Discrete(16, start=-1),  # cartaJogadaRodada1Pos1\n",
    "                spaces.Discrete(16, start=-1),  # cartaJogadaRodada1Pos2\n",
    "                spaces.Discrete(16, start=-1),  # cartaJogadaRodada1Pos3\n",
    "                spaces.Discrete(16, start=-1),  # cartaJogadaRodada1Pos4\n",
    "                spaces.Discrete(16, start=-1),  # cartaJogadaRodada2Pos1\n",
    "                spaces.Discrete(16, start=-1),  # cartaJogadaRodada2Pos2\n",
    "                spaces.Discrete(16, start=-1),  # cartaJogadaRodada2Pos3\n",
    "                spaces.Discrete(16, start=-1),  # cartaJogadaRodada2Pos4\n",
    "                spaces.Discrete(16, start=-1),  # cartaJogadaRodada3Pos1\n",
    "                spaces.Discrete(16, start=-1),  # cartaJogadaRodada3Pos2\n",
    "                spaces.Discrete(16, start=-1),  # cartaJogadaRodada3Pos3\n",
    "                spaces.Discrete(16, start=-1),  # cartaJogadaRodada3Pos4\n",
    "                spaces.Discrete(16, start=-1),  # carta1Jogador\n",
    "                spaces.Discrete(16, start=-1),  # carta2Jogador\n",
    "                spaces.Discrete(16, start=-1),  # carta3Jogador\n",
    "                spaces.Discrete(2),             # baralhoSujo\n",
    "                spaces.Discrete(2)              # podeFechada\n",
    "        ))\n",
    "        \n",
    "        self.episodio = minitruco_java.novoEpisodio()\n",
    "        return self.episodio.proximoEstado().split()\n",
    "        \n",
    "    def step(self, action):\n",
    "        self.episodio.joga(action)\n",
    "        observation = self.episodio.proximoEstado().split()\n",
    "        reward = 0 # TBD recompensa        \n",
    "        done = False # TBD\n",
    "        \n",
    "        return observation, reward, done, {}\n",
    "\n",
    "    def render(self):\n",
    "        pass\n",
    "    \n",
    "    def reset(self):\n",
    "        self.episodio.finaliza()\n",
    "        \n",
    "        self.episodio = minitruco_java.novoEpisodio()\n",
    "        return self.episodio.proximoEstado().split()\n",
    "    "
   ]
  },
  {
   "cell_type": "code",
   "execution_count": 104,
   "id": "d7a9d49a",
   "metadata": {},
   "outputs": [
    {
     "name": "stdout",
     "output_type": "stream",
     "text": [
      "1 1 -1 -1 1 0 0 1 0 0 -1 -1 -1 -1 -1 -1 -1 -1 -1 -1 -1 -1 7 9 14 1 0\n"
     ]
    }
   ],
   "source": [
    "gateway = JavaGateway()\n",
    "minitruco_java = gateway.entry_point \n",
    "episodio = minitruco_java.novoEpisodio()\n"
   ]
  },
  {
   "cell_type": "code",
   "execution_count": 113,
   "id": "790339cf",
   "metadata": {},
   "outputs": [
    {
     "name": "stdout",
     "output_type": "stream",
     "text": [
      "1 2 2 -1 1 0 0 4 1 0 4 6 3 12 -1 -1 -1 3 -1 -1 -1 -1 6 4 4 1 0\n"
     ]
    }
   ],
   "source": [
    "situacao = episodio.proximoEstado()\n",
    "print(situacao)"
   ]
  },
  {
   "cell_type": "code",
   "execution_count": 112,
   "id": "3c27025d",
   "metadata": {},
   "outputs": [],
   "source": [
    "episodio2.joga(2)"
   ]
  },
  {
   "cell_type": "code",
   "execution_count": 103,
   "id": "769e71c4",
   "metadata": {},
   "outputs": [],
   "source": [
    "episodio2.finaliza()"
   ]
  },
  {
   "cell_type": "code",
   "execution_count": 109,
   "id": "23532c43",
   "metadata": {},
   "outputs": [
    {
     "name": "stdout",
     "output_type": "stream",
     "text": [
      "1 1 -1 -1 1 0 0 2 1 0 -1 6 3 12 -1 -1 -1 -1 -1 -1 -1 -1 6 4 4 1 0\n"
     ]
    }
   ],
   "source": [
    "episodio2 = minitruco_java.novoEpisodio()\n",
    "situacao2 = episodio2.proximoEstado()\n",
    "print(situacao2)"
   ]
  },
  {
   "cell_type": "code",
   "execution_count": 115,
   "id": "e8072f03",
   "metadata": {},
   "outputs": [
    {
     "name": "stderr",
     "output_type": "stream",
     "text": [
      "ERROR:root:Exception while sending command.\n",
      "Traceback (most recent call last):\n",
      "  File \"/Users/chesterbr/.pyenv/versions/3.7.17/lib/python3.7/site-packages/py4j/java_gateway.py\", line 1224, in send_command\n",
      "    raise Py4JNetworkError(\"Answer from Java side is empty\")\n",
      "py4j.protocol.Py4JNetworkError: Answer from Java side is empty\n",
      "\n",
      "During handling of the above exception, another exception occurred:\n",
      "\n",
      "Traceback (most recent call last):\n",
      "  File \"/Users/chesterbr/.pyenv/versions/3.7.17/lib/python3.7/site-packages/py4j/java_gateway.py\", line 1038, in send_command\n",
      "    response = connection.send_command(command)\n",
      "  File \"/Users/chesterbr/.pyenv/versions/3.7.17/lib/python3.7/site-packages/py4j/java_gateway.py\", line 1229, in send_command\n",
      "    \"Error while receiving\", e, proto.ERROR_ON_RECEIVE)\n",
      "py4j.protocol.Py4JNetworkError: Error while receiving\n"
     ]
    },
    {
     "ename": "Py4JError",
     "evalue": "An error occurred while calling o1.proximoEstado",
     "output_type": "error",
     "traceback": [
      "\u001b[0;31m---------------------------------------------------------------------------\u001b[0m",
      "\u001b[0;31mPy4JError\u001b[0m                                 Traceback (most recent call last)",
      "\u001b[0;32m/var/folders/pf/3rrm384n0px745nn4lbs8knr0000gn/T/ipykernel_52413/749444453.py\u001b[0m in \u001b[0;36m<module>\u001b[0;34m\u001b[0m\n\u001b[1;32m      1\u001b[0m \u001b[0mepisodio2\u001b[0m\u001b[0;34m.\u001b[0m\u001b[0mjoga\u001b[0m\u001b[0;34m(\u001b[0m\u001b[0;36m1\u001b[0m\u001b[0;34m)\u001b[0m\u001b[0;34m\u001b[0m\u001b[0;34m\u001b[0m\u001b[0m\n\u001b[0;32m----> 2\u001b[0;31m \u001b[0msituacao2\u001b[0m \u001b[0;34m=\u001b[0m \u001b[0mepisodio2\u001b[0m\u001b[0;34m.\u001b[0m\u001b[0mproximoEstado\u001b[0m\u001b[0;34m(\u001b[0m\u001b[0;34m)\u001b[0m\u001b[0;34m\u001b[0m\u001b[0;34m\u001b[0m\u001b[0m\n\u001b[0m\u001b[1;32m      3\u001b[0m \u001b[0mprint\u001b[0m\u001b[0;34m(\u001b[0m\u001b[0msituacao2\u001b[0m\u001b[0;34m)\u001b[0m\u001b[0;34m\u001b[0m\u001b[0;34m\u001b[0m\u001b[0m\n",
      "\u001b[0;32m~/.pyenv/versions/3.7.17/lib/python3.7/site-packages/py4j/java_gateway.py\u001b[0m in \u001b[0;36m__call__\u001b[0;34m(self, *args)\u001b[0m\n\u001b[1;32m   1321\u001b[0m         \u001b[0manswer\u001b[0m \u001b[0;34m=\u001b[0m \u001b[0mself\u001b[0m\u001b[0;34m.\u001b[0m\u001b[0mgateway_client\u001b[0m\u001b[0;34m.\u001b[0m\u001b[0msend_command\u001b[0m\u001b[0;34m(\u001b[0m\u001b[0mcommand\u001b[0m\u001b[0;34m)\u001b[0m\u001b[0;34m\u001b[0m\u001b[0;34m\u001b[0m\u001b[0m\n\u001b[1;32m   1322\u001b[0m         return_value = get_return_value(\n\u001b[0;32m-> 1323\u001b[0;31m             answer, self.gateway_client, self.target_id, self.name)\n\u001b[0m\u001b[1;32m   1324\u001b[0m \u001b[0;34m\u001b[0m\u001b[0m\n\u001b[1;32m   1325\u001b[0m         \u001b[0;32mfor\u001b[0m \u001b[0mtemp_arg\u001b[0m \u001b[0;32min\u001b[0m \u001b[0mtemp_args\u001b[0m\u001b[0;34m:\u001b[0m\u001b[0;34m\u001b[0m\u001b[0;34m\u001b[0m\u001b[0m\n",
      "\u001b[0;32m~/.pyenv/versions/3.7.17/lib/python3.7/site-packages/py4j/protocol.py\u001b[0m in \u001b[0;36mget_return_value\u001b[0;34m(answer, gateway_client, target_id, name)\u001b[0m\n\u001b[1;32m    334\u001b[0m             raise Py4JError(\n\u001b[1;32m    335\u001b[0m                 \u001b[0;34m\"An error occurred while calling {0}{1}{2}\"\u001b[0m\u001b[0;34m.\u001b[0m\u001b[0;34m\u001b[0m\u001b[0;34m\u001b[0m\u001b[0m\n\u001b[0;32m--> 336\u001b[0;31m                 format(target_id, \".\", name))\n\u001b[0m\u001b[1;32m    337\u001b[0m     \u001b[0;32melse\u001b[0m\u001b[0;34m:\u001b[0m\u001b[0;34m\u001b[0m\u001b[0;34m\u001b[0m\u001b[0m\n\u001b[1;32m    338\u001b[0m         \u001b[0mtype\u001b[0m \u001b[0;34m=\u001b[0m \u001b[0manswer\u001b[0m\u001b[0;34m[\u001b[0m\u001b[0;36m1\u001b[0m\u001b[0;34m]\u001b[0m\u001b[0;34m\u001b[0m\u001b[0;34m\u001b[0m\u001b[0m\n",
      "\u001b[0;31mPy4JError\u001b[0m: An error occurred while calling o1.proximoEstado"
     ]
    }
   ],
   "source": [
    "episodio2.joga(1)\n",
    "situacao2 = episodio2.proximoEstado()\n",
    "print(situacao2)"
   ]
  },
  {
   "cell_type": "code",
   "execution_count": 17,
   "id": "cace86ab",
   "metadata": {},
   "outputs": [
    {
     "data": {
      "text/plain": [
       "py4j.java_collections.JavaMap"
      ]
     },
     "execution_count": 17,
     "metadata": {},
     "output_type": "execute_result"
    }
   ],
   "source": [
    "situacao.__class__"
   ]
  },
  {
   "cell_type": "code",
   "execution_count": 19,
   "id": "6dced756",
   "metadata": {},
   "outputs": [
    {
     "data": {
      "text/plain": [
       "Dict('ext_controller': MultiDiscrete([5 2 2]), 'inner_state': Dict('charge': Discrete(100), 'job_status': Dict('progress': Box(0.0, 100.0, (), float32), 'task': Discrete(5)), 'system_checks': MultiBinary(10)))"
      ]
     },
     "execution_count": 19,
     "metadata": {},
     "output_type": "execute_result"
    }
   ],
   "source": [
    "#playpen\n",
    "from gym.spaces import Box, Dict, Discrete, MultiBinary, MultiDiscrete\n",
    "\n",
    "d = Dict(\n",
    "\n",
    "    {\n",
    "\n",
    "        \"ext_controller\": MultiDiscrete([5, 2, 2]),\n",
    "\n",
    "        \"inner_state\": Dict(\n",
    "\n",
    "            {\n",
    "\n",
    "                \"charge\": Discrete(100),\n",
    "\n",
    "                \"system_checks\": MultiBinary(10),\n",
    "\n",
    "                \"job_status\": Dict(\n",
    "\n",
    "                    {\n",
    "\n",
    "                        \"task\": Discrete(5),\n",
    "\n",
    "                        \"progress\": Box(low=0, high=100, shape=()),\n",
    "\n",
    "                    }\n",
    "\n",
    "                ),\n",
    "\n",
    "            }\n",
    "\n",
    "        ),\n",
    "\n",
    "    }\n",
    "\n",
    ")\n",
    "d"
   ]
  },
  {
   "cell_type": "code",
   "execution_count": 20,
   "id": "68add011",
   "metadata": {},
   "outputs": [
    {
     "ename": "AttributeError",
     "evalue": "type object 'dict' has no attribute 'observation_space'",
     "output_type": "error",
     "traceback": [
      "\u001b[0;31m---------------------------------------------------------------------------\u001b[0m",
      "\u001b[0;31mAttributeError\u001b[0m                            Traceback (most recent call last)",
      "\u001b[0;32m/var/folders/pf/3rrm384n0px745nn4lbs8knr0000gn/T/ipykernel_52413/2958019965.py\u001b[0m in \u001b[0;36m<module>\u001b[0;34m\u001b[0m\n\u001b[1;32m      1\u001b[0m \u001b[0;32mfrom\u001b[0m \u001b[0mgym\u001b[0m\u001b[0;34m.\u001b[0m\u001b[0mwrappers\u001b[0m \u001b[0;32mimport\u001b[0m \u001b[0mFilterObservation\u001b[0m\u001b[0;34m,\u001b[0m \u001b[0mFlattenObservation\u001b[0m\u001b[0;34m\u001b[0m\u001b[0;34m\u001b[0m\u001b[0m\n\u001b[0;32m----> 2\u001b[0;31m \u001b[0mFlattenObservation\u001b[0m\u001b[0;34m(\u001b[0m\u001b[0mdict\u001b[0m\u001b[0;34m)\u001b[0m\u001b[0;34m\u001b[0m\u001b[0;34m\u001b[0m\u001b[0m\n\u001b[0m",
      "\u001b[0;32m~/.pyenv/versions/3.7.17/lib/python3.7/site-packages/gym/wrappers/flatten_observation.py\u001b[0m in \u001b[0;36m__init__\u001b[0;34m(self, env)\u001b[0m\n\u001b[1;32m     27\u001b[0m         \"\"\"\n\u001b[1;32m     28\u001b[0m         \u001b[0msuper\u001b[0m\u001b[0;34m(\u001b[0m\u001b[0;34m)\u001b[0m\u001b[0;34m.\u001b[0m\u001b[0m__init__\u001b[0m\u001b[0;34m(\u001b[0m\u001b[0menv\u001b[0m\u001b[0;34m)\u001b[0m\u001b[0;34m\u001b[0m\u001b[0;34m\u001b[0m\u001b[0m\n\u001b[0;32m---> 29\u001b[0;31m         \u001b[0mself\u001b[0m\u001b[0;34m.\u001b[0m\u001b[0mobservation_space\u001b[0m \u001b[0;34m=\u001b[0m \u001b[0mspaces\u001b[0m\u001b[0;34m.\u001b[0m\u001b[0mflatten_space\u001b[0m\u001b[0;34m(\u001b[0m\u001b[0menv\u001b[0m\u001b[0;34m.\u001b[0m\u001b[0mobservation_space\u001b[0m\u001b[0;34m)\u001b[0m\u001b[0;34m\u001b[0m\u001b[0;34m\u001b[0m\u001b[0m\n\u001b[0m\u001b[1;32m     30\u001b[0m \u001b[0;34m\u001b[0m\u001b[0m\n\u001b[1;32m     31\u001b[0m     \u001b[0;32mdef\u001b[0m \u001b[0mobservation\u001b[0m\u001b[0;34m(\u001b[0m\u001b[0mself\u001b[0m\u001b[0;34m,\u001b[0m \u001b[0mobservation\u001b[0m\u001b[0;34m)\u001b[0m\u001b[0;34m:\u001b[0m\u001b[0;34m\u001b[0m\u001b[0;34m\u001b[0m\u001b[0m\n",
      "\u001b[0;31mAttributeError\u001b[0m: type object 'dict' has no attribute 'observation_space'"
     ]
    }
   ],
   "source": [
    "        from gym.wrappers import FilterObservation, FlattenObservation\n",
    "FlattenObservation(dict)"
   ]
  }
 ],
 "metadata": {
  "kernelspec": {
   "display_name": "Python 3 (ipykernel)",
   "language": "python",
   "name": "python3"
  },
  "language_info": {
   "codemirror_mode": {
    "name": "ipython",
    "version": 3
   },
   "file_extension": ".py",
   "mimetype": "text/x-python",
   "name": "python",
   "nbconvert_exporter": "python",
   "pygments_lexer": "ipython3",
   "version": "3.7.17"
  }
 },
 "nbformat": 4,
 "nbformat_minor": 5
}
